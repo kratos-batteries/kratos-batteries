{
 "cells": [
  {
   "cell_type": "markdown",
   "metadata": {},
   "source": [
    "Userdata"
   ]
  },
  {
   "cell_type": "code",
   "execution_count": 1,
   "metadata": {
    "scrolled": true
   },
   "outputs": [],
   "source": [
    "import userdata\n",
    "import PCA"
   ]
  },
  {
   "cell_type": "markdown",
   "metadata": {},
   "source": [
    "Input Data"
   ]
  },
  {
   "cell_type": "code",
   "execution_count": 2,
   "metadata": {
    "scrolled": true
   },
   "outputs": [
    {
     "name": "stdout",
     "output_type": "stream",
     "text": [
      "Charge Formula:V2O5\n",
      "Discharge Formula:LiV2O5\n",
      "Spacegroup Number:1\n",
      "Crystal System:Triclinic\n",
      "Working Ion:Li\n"
     ]
    }
   ],
   "source": [
    "data = userdata.inputdata()"
   ]
  },
  {
   "cell_type": "markdown",
   "metadata": {},
   "source": [
    "Transform Input Data (Use StandardScaler)"
   ]
  },
  {
   "cell_type": "code",
   "execution_count": 4,
   "metadata": {},
   "outputs": [
    {
     "data": {
      "text/plain": [
       "array([[-0.79156703, -2.54732695, -2.89544437, ...,  0.03440725,\n",
       "        -0.02336011, -0.01969792],\n",
       "       [ 2.20860713,  5.18206537, -3.98116742, ...,  0.63254202,\n",
       "         0.42390238, -0.07048113],\n",
       "       [-1.80439466,  5.97114123, -1.01998107, ...,  0.54225608,\n",
       "         0.0755999 , -0.2776888 ],\n",
       "       ...,\n",
       "       [ 4.778671  ,  3.51519647, -2.98197079, ...,  0.17418243,\n",
       "        -0.01475984,  0.68344713],\n",
       "       [ 4.65154334, -0.52084445, -4.10284893, ...,  0.30627974,\n",
       "        -0.21369515,  0.56083563],\n",
       "       [ 2.69723361,  5.7834605 , -2.81694076, ...,  0.17773562,\n",
       "        -0.05182126,  0.40330359]])"
      ]
     },
     "execution_count": 4,
     "metadata": {},
     "output_type": "execute_result"
    }
   ],
   "source": [
    "PCA.transts(data)"
   ]
  },
  {
   "cell_type": "markdown",
   "metadata": {},
   "source": [
    "Transform Input Data (Use MinMaxScaler)"
   ]
  },
  {
   "cell_type": "code",
   "execution_count": 3,
   "metadata": {
    "scrolled": false
   },
   "outputs": [
    {
     "data": {
      "text/plain": [
       "array([[-6.73731878e-01,  2.17459380e-01, -1.09496545e+00, ...,\n",
       "        -1.43850572e-02,  1.04983778e-03,  2.79686587e-03],\n",
       "       [ 4.86246025e-01,  6.08926609e-02, -2.14473583e-01, ...,\n",
       "         7.20325231e-03,  8.45125707e-03,  2.30451266e-03],\n",
       "       [ 6.94758725e-01, -1.06352638e+00,  1.79785125e-03, ...,\n",
       "         4.44558505e-03,  1.33249598e-02, -6.75952885e-03],\n",
       "       ...,\n",
       "       [ 5.22887161e-01,  1.13321121e+00, -9.09830226e-01, ...,\n",
       "        -3.23047250e-03, -2.24842692e-03,  7.26914666e-04],\n",
       "       [-2.97020153e-01,  1.22874661e+00, -5.48482665e-01, ...,\n",
       "         5.19458999e-03,  4.80317797e-03, -1.46011379e-04],\n",
       "       [ 1.16043916e+00,  6.17235645e-01, -1.71361800e-03, ...,\n",
       "        -2.02055993e-02,  3.55992036e-04, -1.46383655e-03]])"
      ]
     },
     "execution_count": 3,
     "metadata": {},
     "output_type": "execute_result"
    }
   ],
   "source": [
    "PCA.tranmms(data)"
   ]
  }
 ],
 "metadata": {
  "kernelspec": {
   "display_name": "Python 3",
   "language": "python",
   "name": "python3"
  },
  "language_info": {
   "codemirror_mode": {
    "name": "ipython",
    "version": 3
   },
   "file_extension": ".py",
   "mimetype": "text/x-python",
   "name": "python",
   "nbconvert_exporter": "python",
   "pygments_lexer": "ipython3",
   "version": "3.7.4"
  }
 },
 "nbformat": 4,
 "nbformat_minor": 2
}
