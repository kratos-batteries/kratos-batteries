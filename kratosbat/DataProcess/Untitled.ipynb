{
 "cells": [
  {
   "cell_type": "code",
   "execution_count": 9,
   "metadata": {
    "ExecuteTime": {
     "end_time": "2020-03-15T05:45:01.535478Z",
     "start_time": "2020-03-15T05:45:01.530988Z"
    }
   },
   "outputs": [],
   "source": [
    "import PCA\n",
    "import variable_selection_extraction"
   ]
  },
  {
   "cell_type": "code",
   "execution_count": 12,
   "metadata": {
    "ExecuteTime": {
     "end_time": "2020-03-15T06:46:43.064492Z",
     "start_time": "2020-03-15T05:48:26.604126Z"
    },
    "scrolled": true
   },
   "outputs": [],
   "source": [
    "X_train, X_test, y_train, y_test = variable_selection_extraction.get_data_RFE()\n",
    "result = variable_selection_extraction.SVR_linear_RFE(X_train, X_test, y_train, y_test) "
   ]
  },
  {
   "cell_type": "code",
   "execution_count": 19,
   "metadata": {
    "ExecuteTime": {
     "end_time": "2020-03-15T06:50:34.233110Z",
     "start_time": "2020-03-15T06:50:34.225698Z"
    }
   },
   "outputs": [],
   "source": [
    "type(result[1]) \n",
    "assert isinstance(result[1], pd.core.frame.DataFrame), \"dataset values are not float numbers\""
   ]
  },
  {
   "cell_type": "code",
   "execution_count": 20,
   "metadata": {
    "ExecuteTime": {
     "end_time": "2020-03-15T06:53:16.796384Z",
     "start_time": "2020-03-15T06:53:16.791266Z"
    }
   },
   "outputs": [],
   "source": [
    "def test_get_data_RFE():\n",
    "    test_X_train, test_X_test, test_y_train, test_y_test = variable_selection_extraction.get_data_RFE()\n",
    "    #Test that X_train and y_train rows are the same size\n",
    "    assert test_X_train.shape[0] == (test_y_train.shape[0]), \"X_train and y_train rows are not the same size\""
   ]
  },
  {
   "cell_type": "code",
   "execution_count": 21,
   "metadata": {
    "ExecuteTime": {
     "end_time": "2020-03-15T06:53:20.432091Z",
     "start_time": "2020-03-15T06:53:19.857910Z"
    }
   },
   "outputs": [],
   "source": [
    "test_get_data_RFE() "
   ]
  },
  {
   "cell_type": "code",
   "execution_count": 22,
   "metadata": {
    "ExecuteTime": {
     "end_time": "2020-03-15T06:53:23.303036Z",
     "start_time": "2020-03-15T06:53:23.297544Z"
    }
   },
   "outputs": [],
   "source": [
    "def test_SVR_linear_RFE():\n",
    "    test_X_train, test_X_test, test_y_train, test_y_test = variable_selection_extraction.get_data_RFE()\n",
    "    test_result = variable_selection_extraction.SVR_linear_RFE(test_X_train, test_X_test, test_y_train, test_y_test)\n",
    "    #Test to see if normalized SVR dataset is a pandas core dataframe\n",
    "    assert isinstance(test_result[1], pd.core.frame.DataFrame), \"Not a pandas core dataframe\""
   ]
  },
  {
   "cell_type": "code",
   "execution_count": 23,
   "metadata": {
    "ExecuteTime": {
     "end_time": "2020-03-15T08:11:57.896376Z",
     "start_time": "2020-03-15T06:53:31.270276Z"
    }
   },
   "outputs": [],
   "source": [
    "test_SVR_linear_RFE() "
   ]
  }
 ],
 "metadata": {
  "kernelspec": {
   "display_name": "Python 3",
   "language": "python",
   "name": "python3"
  },
  "language_info": {
   "codemirror_mode": {
    "name": "ipython",
    "version": 3
   },
   "file_extension": ".py",
   "mimetype": "text/x-python",
   "name": "python",
   "nbconvert_exporter": "python",
   "pygments_lexer": "ipython3",
   "version": "3.7.5"
  },
  "toc": {
   "base_numbering": 1,
   "nav_menu": {},
   "number_sections": true,
   "sideBar": true,
   "skip_h1_title": false,
   "title_cell": "Table of Contents",
   "title_sidebar": "Contents",
   "toc_cell": false,
   "toc_position": {},
   "toc_section_display": true,
   "toc_window_display": false
  },
  "varInspector": {
   "cols": {
    "lenName": 16,
    "lenType": 16,
    "lenVar": 40
   },
   "kernels_config": {
    "python": {
     "delete_cmd_postfix": "",
     "delete_cmd_prefix": "del ",
     "library": "var_list.py",
     "varRefreshCmd": "print(var_dic_list())"
    },
    "r": {
     "delete_cmd_postfix": ") ",
     "delete_cmd_prefix": "rm(",
     "library": "var_list.r",
     "varRefreshCmd": "cat(var_dic_list()) "
    }
   },
   "types_to_exclude": [
    "module",
    "function",
    "builtin_function_or_method",
    "instance",
    "_Feature"
   ],
   "window_display": false
  }
 },
 "nbformat": 4,
 "nbformat_minor": 4
}
