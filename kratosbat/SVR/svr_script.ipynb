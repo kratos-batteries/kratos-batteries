{
 "nbformat": 4,
 "nbformat_minor": 2,
 "metadata": {
  "language_info": {
   "name": "python",
   "codemirror_mode": {
    "name": "ipython",
    "version": 3
   },
   "version": "3.7.4-final"
  },
  "orig_nbformat": 2,
  "file_extension": ".py",
  "mimetype": "text/x-python",
  "name": "python",
  "npconvert_exporter": "python",
  "pygments_lexer": "ipython3",
  "version": 3,
  "kernelspec": {
   "name": "python37464bitbasecondaaedb3b0a6ce64122a565c132635c4aab",
   "display_name": "Python 3.7.4 64-bit ('base': conda)"
  }
 },
 "cells": [
  {
   "cell_type": "code",
   "execution_count": 21,
   "metadata": {},
   "outputs": [],
   "source": [
    "from sklearn.svm import SVR\n",
    "import pandas as pd\n",
    "from sklearn.preprocessing import StandardScaler\n",
    "import numpy as np\n",
    "from sklearn.externals import joblib\n",
    "from sklearn.model_selection import KFold\n",
    "from sklearn.metrics import mean_squared_error\n",
    "from sklearn.metrics import r2_score\n",
    "from sklearn.metrics import mean_squared_log_error"
   ]
  },
  {
   "cell_type": "code",
   "execution_count": 5,
   "metadata": {},
   "outputs": [
    {
     "output_type": "execute_result",
     "data": {
      "text/plain": "(4401, 209)"
     },
     "metadata": {},
     "execution_count": 5
    }
   ],
   "source": [
    "X1=pd.read_csv('../Data/DataForSVR/GC_data.csv')\n",
    "y1=pd.read_csv('../Data/NEWTrainingData_StandardScaler.csv').loc[:,['Gravimetric Capacity (units)']]\n",
    "X1.shape"
   ]
  },
  {
   "cell_type": "code",
   "execution_count": 4,
   "metadata": {},
   "outputs": [],
   "source": [
    "kf = KFold(n_splits=10, shuffle=True)\n",
    "kf.get_n_splits(X1, y1)\n",
    "kernal=['linear','poly', 'rbf','sigmoid', 'precomputed']\n",
    "\n",
    "svr=SVR(kernel='sigmoid', degree=3, gamma='scale', coef0=0.0, tol=0.001, C=1.0, epsilon=0.1, \\\n",
    "                      shrinking=True, cache_size=200, verbose=False, max_iter=-1)\n",
    ""
   ]
  },
  {
   "cell_type": "code",
   "execution_count": 5,
   "metadata": {},
   "outputs": [],
   "source": [
    "mse=[]\n",
    "for item in kernal:\n",
    "  svr=SVR(kernel=item, degree=3, gamma='scale', coef0=0.0, tol=0.001, C=1.0, epsilon=0.1, \\\n",
    "                      shrinking=True, cache_size=200, verbose=False, max_iter=-1)\n",
    "  for train_index, test_index in kf.split(X1, y1):\n",
    "      #print(\"TRAIN:\", train_index, \"TEST:\", test_index)\n",
    "      X1_train, X1_test = X1.iloc[train_index], X1.iloc[test_index]\n",
    "      y1_train, y1_test = y1.iloc[train_index], y1.iloc[test_index]\n",
    "\n",
    "      svr.fit(X1_train, y1_train)\n",
    "      y1_pred = svr.predict(X1_test)\n",
    "\n",
    "      mse.append(pd.Series(mean_squared_error(y1_test, y1_pred)).mean())\n",
    "print(mse)"
   ]
  },
  {
   "cell_type": "code",
   "execution_count": null,
   "metadata": {},
   "outputs": [],
   "source": [
    "fig, ax = plt.subplots(figsize=(8,6))\n",
    "\n",
    "for train_index, test_index in kf.split(X, y):\n",
    "    #print(\"TRAIN:\", train_index, \"TEST:\", test_index)\n",
    "    X_train, X_test = X1[train_index], X1[test_index]\n",
    "    y_train, y_test = y1[train_index], y1[test_index]\n",
    "\n",
    "    svr.fit(X_train, y_train)\n",
    "    y_pred = svr.predict(X_test)\n",
    "\n",
    "    mse[i-1, j] = mean_squared_error(y_test, y_pred)\n",
    "\n",
    "    \n",
    "    ax.plot(np.linspace(1, 16, 17), mse[:, j], linewidth=4, color='b', alpha=0.09)\n",
    "    ax.set_ylabel('Mean Squared Error')\n",
    "    ax.set_xlabel('Degree of Polynomial')\n",
    "    j += 1\n",
    "    \n",
    "avg_mse = mse.mean(axis=1)\n",
    "ax.plot(np.linspace(1, 16, 17), avg_mse, color='r',linewidth=4)\n",
    "ax.grid()\n",
    "ax.set_ylim(0,10)"
   ]
  },
  {
   "cell_type": "code",
   "execution_count": 4,
   "metadata": {},
   "outputs": [],
   "source": [
    "from sklearn.svm import SVR\n",
    "from sklearn.externals import joblib\n",
    "from sklearn.model_selection import GridSearchCV\n",
    "import numpy as np\n",
    "import matplotlib.pyplot as plt\n",
    "import pandas as pd\n",
    ""
   ]
  },
  {
   "cell_type": "code",
   "execution_count": 5,
   "metadata": {},
   "outputs": [],
   "source": [
    "    X2=pd.read_csv('../Data/DataForSVR/VC_data.csv')\n",
    "    y2=pd.read_csv('../Data/NEWTrainingData_StandardScaler.csv').loc[:,['Volumetric Capacity']]\n",
    "    X3=pd.read_csv('../Data/DataForSVR/MDV_data.csv')\n",
    "    y3=pd.read_csv('../Data/NEWTrainingData_StandardScaler.csv').loc[:,['Max Delta Volume']]"
   ]
  },
  {
   "cell_type": "code",
   "execution_count": 6,
   "metadata": {},
   "outputs": [],
   "source": [
    "svr = \n",
    "svr.fit(X1, y1)\n",
    "joblib.dump(svr, 'svr_CG.pkl') "
   ]
  },
  {
   "cell_type": "code",
   "execution_count": null,
   "metadata": {},
   "outputs": [],
   "source": [
    "svr = GridSearchCV(SVR(), param_grid={\"kernel\": (\"linear\", 'rbf','sigmoid','poly'), \"C\": np.logspace(-3, 3, 7), \"gamma\": np.logspace(-3, 3, 7)})\n",
    "svr.fit(X2, y2)\n",
    "joblib.dump(svr, 'svr_CV.pkl')"
   ]
  },
  {
   "cell_type": "code",
   "execution_count": null,
   "metadata": {},
   "outputs": [],
   "source": [
    "svr = GridSearchCV(SVR(), param_grid={\"kernel\": (\"linear\", 'rbf','sigmoid','poly'), \"C\": np.logspace(-3, 3, 7), \"gamma\": np.logspace(-3, 3, 7)})\n",
    "svr.fit(X3, y3)\n",
    "joblib.dump(svr, 'svr_MDV.pkl') "
   ]
  },
  {
   "cell_type": "code",
   "execution_count": null,
   "metadata": {},
   "outputs": [],
   "source": [
    "kf = KFold(n_splits=10, shuffle=True)\n",
    "kf.get_n_splits(X1, y1)"
   ]
  },
  {
   "cell_type": "code",
   "execution_count": null,
   "metadata": {},
   "outputs": [],
   "source": []
  },
  {
   "cell_type": "code",
   "execution_count": 31,
   "metadata": {},
   "outputs": [
    {
     "output_type": "stream",
     "name": "stdout",
     "text": "-0.029341161769347313\n-0.042845254687920775\n-0.01811949125957968\n-0.03937853549307557\n-0.04543240875053889\n-0.03438230764901351\n-0.035970906096926436\n-0.027207753889581188\n-0.030612104739524693\n-0.03896998776645022\n1.0326666483283238\n"
    }
   ],
   "source": [
    "\n",
    "    svr_cg = joblib.load('svr_CG.pkl')\n",
    "    svr_cv = joblib.load('svr_CV.pkl')\n",
    "    svr_mdv = joblib.load('svr_MDV.pkl')\n",
    "\n",
    "    kf = KFold(n_splits=10, shuffle=True)\n",
    "    kf.get_n_splits(X1, y1)   \n",
    "    list_mse=[]\n",
    "    list_R2=[]\n",
    "    for train_index, test_index in kf.split(X1, y1):\n",
    "        X1_train, X1_test = X1.iloc[train_index], X1.iloc[test_index]\n",
    "        y1_train, y1_test = y1.iloc[train_index], y1.iloc[test_index]\n",
    "        y1_pred = svr_cg.predict(X1_test)\n",
    "        list_mse.append(mean_squared_error(y1_test, y1_pred))\n",
    "        print(r2_score(y1_test,y1_pred))\n",
    "    print(pd.Series(list_mse).mean())\n",
    "    \n",
    "    \n",
    ""
   ]
  },
  {
   "cell_type": "code",
   "execution_count": 30,
   "metadata": {},
   "outputs": [],
   "source": [
    "    X1 = pd.read_csv('../Data/DataForSVR/GC_data.csv')\n",
    "    y1 = pd.read_csv('../Data/NEWTrainingData_StandardScaler.csv').loc[:, ['Gravimetric Capacity (units)']]\n",
    "    X2 = pd.read_csv('../Data/DataForSVR/VC_data.csv')\n",
    "    y2 = pd.read_csv('../Data/NEWTrainingData_StandardScaler.csv').loc[:, ['Volumetric Capacity']]\n",
    "    X3 = pd.read_csv('../Data/DataForSVR/MDV_data.csv')\n",
    "    y3 = pd.read_csv('../Data/NEWTrainingData_StandardScaler.csv').loc[:, ['Max Delta Volume']]"
   ]
  },
  {
   "cell_type": "code",
   "execution_count": 42,
   "metadata": {},
   "outputs": [
    {
     "output_type": "execute_result",
     "data": {
      "text/plain": "(4401, 1)"
     },
     "metadata": {},
     "execution_count": 42
    }
   ],
   "source": [
    "y3.shape"
   ]
  },
  {
   "cell_type": "code",
   "execution_count": 35,
   "metadata": {},
   "outputs": [
    {
     "output_type": "stream",
     "name": "stdout",
     "text": "-0.033082706536516904\n-0.021703966452532475\n-0.015266363263685134\n-0.027811205339260958\n-0.03919856272300737\n-0.04196916673907025\n-0.04023677324147101\n-0.05788548856629028\n-0.03278774940755702\n-0.05424545229048938\n1.0349679460509127\n"
    }
   ],
   "source": [
    "    kf = KFold(n_splits=10, shuffle=True)\n",
    "    kf.get_n_splits(X2, y2)   \n",
    "    list_mse=[]\n",
    "    list_R2=[]\n",
    "    for train_index, test_index in kf.split(X2, y2):\n",
    "        X2_train, X2_test = X2.iloc[train_index], X2.iloc[test_index]\n",
    "        y2_train, y2_test = y2.iloc[train_index], y2.iloc[test_index]\n",
    "        y2_pred = svr_cv.predict(X2_test)\n",
    "        list_mse.append(mean_squared_error(y2_test, y2_pred))\n",
    "        print(r2_score(y2_test,y2_pred))\n",
    "    print(pd.Series(list_mse).mean())"
   ]
  },
  {
   "cell_type": "code",
   "execution_count": 36,
   "metadata": {},
   "outputs": [
    {
     "output_type": "execute_result",
     "data": {
      "text/plain": "      Volumetric Capacity\n1               -0.818010\n2                0.028137\n4               -0.559713\n19              -0.745029\n21              -0.228024\n...                   ...\n4369            -0.280530\n4374             0.992088\n4378             0.230824\n4380            -0.160085\n4398             0.474638\n\n[440 rows x 1 columns]",
      "text/html": "<div>\n<style scoped>\n    .dataframe tbody tr th:only-of-type {\n        vertical-align: middle;\n    }\n\n    .dataframe tbody tr th {\n        vertical-align: top;\n    }\n\n    .dataframe thead th {\n        text-align: right;\n    }\n</style>\n<table border=\"1\" class=\"dataframe\">\n  <thead>\n    <tr style=\"text-align: right;\">\n      <th></th>\n      <th>Volumetric Capacity</th>\n    </tr>\n  </thead>\n  <tbody>\n    <tr>\n      <th>1</th>\n      <td>-0.818010</td>\n    </tr>\n    <tr>\n      <th>2</th>\n      <td>0.028137</td>\n    </tr>\n    <tr>\n      <th>4</th>\n      <td>-0.559713</td>\n    </tr>\n    <tr>\n      <th>19</th>\n      <td>-0.745029</td>\n    </tr>\n    <tr>\n      <th>21</th>\n      <td>-0.228024</td>\n    </tr>\n    <tr>\n      <th>...</th>\n      <td>...</td>\n    </tr>\n    <tr>\n      <th>4369</th>\n      <td>-0.280530</td>\n    </tr>\n    <tr>\n      <th>4374</th>\n      <td>0.992088</td>\n    </tr>\n    <tr>\n      <th>4378</th>\n      <td>0.230824</td>\n    </tr>\n    <tr>\n      <th>4380</th>\n      <td>-0.160085</td>\n    </tr>\n    <tr>\n      <th>4398</th>\n      <td>0.474638</td>\n    </tr>\n  </tbody>\n</table>\n<p>440 rows × 1 columns</p>\n</div>"
     },
     "metadata": {},
     "execution_count": 36
    }
   ],
   "source": [
    "y2_test"
   ]
  },
  {
   "cell_type": "code",
   "execution_count": 37,
   "metadata": {},
   "outputs": [
    {
     "output_type": "execute_result",
     "data": {
      "text/plain": "array([-0.17139699, -0.17874018, -0.18208296, -0.18387512, -0.18391996,\n       -0.18633662, -0.18691209, -0.18739541, -0.18625873, -0.1864626 ,\n       -0.18627916, -0.18631781, -0.1860371 , -0.18648281, -0.186609  ,\n       -0.18646264, -0.18612727, -0.18653409, -0.18652401, -0.18653564,\n       -0.18655855, -0.18654515, -0.18654654, -0.18652941, -0.18668284,\n       -0.18647497, -0.18639252, -0.18657697, -0.18660106, -0.18662452,\n       -0.18662136, -0.18648371, -0.18662257, -0.18658714, -0.18663677,\n       -0.18660231, -0.18665281, -0.18656543, -0.18670171, -0.186592  ,\n       -0.18658185, -0.18641383, -0.18662049, -0.1865881 , -0.18671236,\n       -0.18681577, -0.18654243, -0.18658655, -0.18659747, -0.18664741,\n       -0.18656654, -0.18638974, -0.18655728, -0.18652794, -0.18642262,\n       -0.18658227, -0.18664583, -0.18657678, -0.18660502, -0.18674825,\n       -0.18654376, -0.18640309, -0.18655408, -0.18660408, -0.18656341,\n       -0.18629749, -0.18656373, -0.18665298, -0.18665386, -0.18661994,\n       -0.18662613, -0.18644485, -0.18620217, -0.18648037, -0.186524  ,\n       -0.1865562 , -0.18656871, -0.18663825, -0.1872616 , -0.18639442,\n       -0.18650559, -0.18659182, -0.18660504, -0.18659648, -0.18657586,\n       -0.18613073, -0.18648499, -0.18658215, -0.18639609, -0.1864999 ,\n       -0.18661694, -0.18666278, -0.18658514, -0.18646827, -0.1866198 ,\n       -0.18642033, -0.18632828, -0.18624457, -0.18641697, -0.18658547,\n       -0.18653587, -0.1864373 , -0.18657725, -0.18658607, -0.18662118,\n       -0.18659355, -0.18642994, -0.18657965, -0.18670807, -0.18660031,\n       -0.18646106, -0.18635637, -0.18637016, -0.18658983, -0.1864362 ,\n       -0.18640396, -0.18662607, -0.18663637, -0.18660873, -0.1866083 ,\n       -0.18657718, -0.18663737, -0.1865912 , -0.18644269, -0.18665231,\n       -0.18651639, -0.18651573, -0.18669373, -0.18654267, -0.18744148,\n       -0.18665928, -0.18644385, -0.18706476, -0.18666249, -0.18673907,\n       -0.18614296, -0.18640158, -0.18733996, -0.18631142, -0.18652252,\n       -0.18648138, -0.18659815, -0.18633794, -0.18654118, -0.18641645,\n       -0.18648688, -0.18655852, -0.18655213, -0.18658084, -0.1864807 ,\n       -0.18655049, -0.18655437, -0.18662115, -0.18645538, -0.18659947,\n       -0.18662563, -0.18649879, -0.1865676 , -0.18655539, -0.18667892,\n       -0.18661253, -0.18661941, -0.18659249, -0.18622373, -0.18648289,\n       -0.18659525, -0.18658197, -0.18688877, -0.18659863, -0.1866123 ,\n       -0.18662561, -0.18676901, -0.18646743, -0.18637595, -0.18643364,\n       -0.18721623, -0.18660508, -0.18653775, -0.18647445, -0.18637061,\n       -0.18643057, -0.18664955, -0.18703488, -0.18704367, -0.18699917,\n       -0.18651275, -0.18636916, -0.1863407 , -0.18638272, -0.18639236,\n       -0.1864785 , -0.18639133, -0.18654387, -0.18658763, -0.18637247,\n       -0.18710769, -0.18654707, -0.18658029, -0.18660777, -0.18658859,\n       -0.186606  , -0.18699236, -0.18666642, -0.18660405, -0.18657246,\n       -0.18665125, -0.18660642, -0.18659101, -0.18655457, -0.18661713,\n       -0.18661074, -0.18650486, -0.18663825, -0.1865529 , -0.18662101,\n       -0.18656977, -0.18672015, -0.18663116, -0.18657378, -0.18636543,\n       -0.18653673, -0.18653656, -0.1865554 , -0.18644659, -0.18663064,\n       -0.18672497, -0.18640956, -0.18662002, -0.18667383, -0.18661077,\n       -0.18655241, -0.18658116, -0.18671945, -0.18649127, -0.18652107,\n       -0.18659879, -0.18660656, -0.18660188, -0.18673326, -0.18656699,\n       -0.18659579, -0.18687836, -0.18662563, -0.1866935 , -0.18660374,\n       -0.18665431, -0.18659318, -0.18650645, -0.18664421, -0.18691219,\n       -0.18664186, -0.1870075 , -0.18637357, -0.1870539 , -0.18656289,\n       -0.18650666, -0.18733998, -0.18660936, -0.18663819, -0.18663706,\n       -0.18664944, -0.18748107, -0.1866074 , -0.18745496, -0.18747773,\n       -0.1874552 , -0.18659023, -0.18685798, -0.18650694, -0.18647685,\n       -0.18656997, -0.18648713, -0.18652446, -0.18691395, -0.18668109,\n       -0.18658064, -0.18649764, -0.18662002, -0.18657413, -0.1869639 ,\n       -0.18662197, -0.18664683, -0.18736649, -0.18685834, -0.18656779,\n       -0.18693038, -0.18658989, -0.18651412, -0.18686792, -0.18650073,\n       -0.18626101, -0.18642067, -0.18619334, -0.18634114, -0.18709966,\n       -0.18647858, -0.18623109, -0.18638392, -0.18657991, -0.18727172,\n       -0.18666053, -0.18657335, -0.18743279, -0.18746936, -0.1867626 ,\n       -0.18659546, -0.18652646, -0.18645621, -0.18634973, -0.18686521,\n       -0.18727601, -0.18658459, -0.18648868, -0.18660318, -0.18655213,\n       -0.18664744, -0.18639379, -0.18638919, -0.1865914 , -0.18646748,\n       -0.18654281, -0.18655886, -0.18654336, -0.18654365, -0.18732305,\n       -0.18655389, -0.18615384, -0.18635031, -0.18727071, -0.18736456,\n       -0.18736463, -0.18653918, -0.18663515, -0.18663065, -0.18671116,\n       -0.18657004, -0.18662722, -0.18660765, -0.18663499, -0.18653068,\n       -0.18654412, -0.18678321, -0.18657653, -0.18721894, -0.18649052,\n       -0.18648641, -0.18675913, -0.18652794, -0.18661082, -0.18652827,\n       -0.18669657, -0.18651254, -0.18641804, -0.18647933, -0.18654056,\n       -0.18665629, -0.18666644, -0.18662878, -0.18664842, -0.18727689,\n       -0.18706333, -0.18658313, -0.18659887, -0.18654349, -0.18661916,\n       -0.18651746, -0.18647397, -0.18653774, -0.18649131, -0.18661328,\n       -0.18635508, -0.18654808, -0.18656485, -0.18659667, -0.18666747,\n       -0.186445  , -0.18641475, -0.1866144 , -0.18661557, -0.18665069,\n       -0.18658419, -0.18746108, -0.18746269, -0.18653515, -0.18664256,\n       -0.18665593, -0.18726252, -0.18753772, -0.18663509, -0.18659446,\n       -0.18672687, -0.18668284, -0.18671123, -0.18663123, -0.18702821,\n       -0.18703419, -0.18662977, -0.18646609, -0.18652145, -0.18693954,\n       -0.18671099, -0.18657497, -0.18663925, -0.18661027, -0.18652543,\n       -0.18748329, -0.18641713, -0.186535  , -0.18743802, -0.18743238,\n       -0.1873951 , -0.18668986, -0.18664693, -0.18656356, -0.18669203,\n       -0.18658869, -0.18656977, -0.18658696, -0.186518  , -0.18650248,\n       -0.18699689, -0.1865555 , -0.18662223, -0.18683314, -0.18659008,\n       -0.18662387, -0.18662614, -0.18697715, -0.18734357, -0.18668446,\n       -0.18656906, -0.18640192, -0.18618235, -0.18697573, -0.18662021,\n       -0.18661024, -0.18663655, -0.18722317, -0.18662133, -0.18694988])"
     },
     "metadata": {},
     "execution_count": 37
    }
   ],
   "source": [
    "y2_pred"
   ]
  },
  {
   "cell_type": "code",
   "execution_count": 43,
   "metadata": {},
   "outputs": [
    {
     "output_type": "error",
     "ename": "ValueError",
     "evalue": "X.shape[1] = 206 should be equal to 209, the number of features at training time",
     "traceback": [
      "\u001b[0;31m---------------------------------------------------------------------------\u001b[0m",
      "\u001b[0;31mValueError\u001b[0m                                Traceback (most recent call last)",
      "\u001b[0;32m<ipython-input-43-2ae4eebe6147>\u001b[0m in \u001b[0;36m<module>\u001b[0;34m\u001b[0m\n\u001b[1;32m      6\u001b[0m     \u001b[0mX3_train\u001b[0m\u001b[0;34m,\u001b[0m \u001b[0mX3_test\u001b[0m \u001b[0;34m=\u001b[0m \u001b[0mX3\u001b[0m\u001b[0;34m.\u001b[0m\u001b[0miloc\u001b[0m\u001b[0;34m[\u001b[0m\u001b[0mtrain_index\u001b[0m\u001b[0;34m]\u001b[0m\u001b[0;34m,\u001b[0m \u001b[0mX3\u001b[0m\u001b[0;34m.\u001b[0m\u001b[0miloc\u001b[0m\u001b[0;34m[\u001b[0m\u001b[0mtest_index\u001b[0m\u001b[0;34m]\u001b[0m\u001b[0;34m\u001b[0m\u001b[0;34m\u001b[0m\u001b[0m\n\u001b[1;32m      7\u001b[0m     \u001b[0my3_train\u001b[0m\u001b[0;34m,\u001b[0m \u001b[0my3_test\u001b[0m \u001b[0;34m=\u001b[0m \u001b[0my3\u001b[0m\u001b[0;34m.\u001b[0m\u001b[0miloc\u001b[0m\u001b[0;34m[\u001b[0m\u001b[0mtrain_index\u001b[0m\u001b[0;34m]\u001b[0m\u001b[0;34m,\u001b[0m \u001b[0my3\u001b[0m\u001b[0;34m.\u001b[0m\u001b[0miloc\u001b[0m\u001b[0;34m[\u001b[0m\u001b[0mtest_index\u001b[0m\u001b[0;34m]\u001b[0m\u001b[0;34m\u001b[0m\u001b[0;34m\u001b[0m\u001b[0m\n\u001b[0;32m----> 8\u001b[0;31m     \u001b[0my3_pred\u001b[0m \u001b[0;34m=\u001b[0m \u001b[0msvr_cg\u001b[0m\u001b[0;34m.\u001b[0m\u001b[0mpredict\u001b[0m\u001b[0;34m(\u001b[0m\u001b[0mX3_test\u001b[0m\u001b[0;34m)\u001b[0m\u001b[0;34m\u001b[0m\u001b[0;34m\u001b[0m\u001b[0m\n\u001b[0m\u001b[1;32m      9\u001b[0m     \u001b[0mlist_mse\u001b[0m\u001b[0;34m.\u001b[0m\u001b[0mappend\u001b[0m\u001b[0;34m(\u001b[0m\u001b[0mmean_squared_error\u001b[0m\u001b[0;34m(\u001b[0m\u001b[0my3_test\u001b[0m\u001b[0;34m,\u001b[0m \u001b[0my3_pred\u001b[0m\u001b[0;34m)\u001b[0m\u001b[0;34m)\u001b[0m\u001b[0;34m\u001b[0m\u001b[0;34m\u001b[0m\u001b[0m\n\u001b[1;32m     10\u001b[0m     \u001b[0mprint\u001b[0m\u001b[0;34m(\u001b[0m\u001b[0mr2_score\u001b[0m\u001b[0;34m(\u001b[0m\u001b[0my3_test\u001b[0m\u001b[0;34m,\u001b[0m\u001b[0my3_pred\u001b[0m\u001b[0;34m)\u001b[0m\u001b[0;34m)\u001b[0m\u001b[0;34m\u001b[0m\u001b[0;34m\u001b[0m\u001b[0m\n",
      "\u001b[0;32m~/miniconda3/lib/python3.7/site-packages/sklearn/utils/metaestimators.py\u001b[0m in \u001b[0;36m<lambda>\u001b[0;34m(*args, **kwargs)\u001b[0m\n\u001b[1;32m    114\u001b[0m \u001b[0;34m\u001b[0m\u001b[0m\n\u001b[1;32m    115\u001b[0m         \u001b[0;31m# lambda, but not partial, allows help() to work with update_wrapper\u001b[0m\u001b[0;34m\u001b[0m\u001b[0;34m\u001b[0m\u001b[0;34m\u001b[0m\u001b[0m\n\u001b[0;32m--> 116\u001b[0;31m         \u001b[0mout\u001b[0m \u001b[0;34m=\u001b[0m \u001b[0;32mlambda\u001b[0m \u001b[0;34m*\u001b[0m\u001b[0margs\u001b[0m\u001b[0;34m,\u001b[0m \u001b[0;34m**\u001b[0m\u001b[0mkwargs\u001b[0m\u001b[0;34m:\u001b[0m \u001b[0mself\u001b[0m\u001b[0;34m.\u001b[0m\u001b[0mfn\u001b[0m\u001b[0;34m(\u001b[0m\u001b[0mobj\u001b[0m\u001b[0;34m,\u001b[0m \u001b[0;34m*\u001b[0m\u001b[0margs\u001b[0m\u001b[0;34m,\u001b[0m \u001b[0;34m**\u001b[0m\u001b[0mkwargs\u001b[0m\u001b[0;34m)\u001b[0m\u001b[0;34m\u001b[0m\u001b[0;34m\u001b[0m\u001b[0m\n\u001b[0m\u001b[1;32m    117\u001b[0m         \u001b[0;31m# update the docstring of the returned function\u001b[0m\u001b[0;34m\u001b[0m\u001b[0;34m\u001b[0m\u001b[0;34m\u001b[0m\u001b[0m\n\u001b[1;32m    118\u001b[0m         \u001b[0mupdate_wrapper\u001b[0m\u001b[0;34m(\u001b[0m\u001b[0mout\u001b[0m\u001b[0;34m,\u001b[0m \u001b[0mself\u001b[0m\u001b[0;34m.\u001b[0m\u001b[0mfn\u001b[0m\u001b[0;34m)\u001b[0m\u001b[0;34m\u001b[0m\u001b[0;34m\u001b[0m\u001b[0m\n",
      "\u001b[0;32m~/miniconda3/lib/python3.7/site-packages/sklearn/model_selection/_search.py\u001b[0m in \u001b[0;36mpredict\u001b[0;34m(self, X)\u001b[0m\n\u001b[1;32m    475\u001b[0m         \"\"\"\n\u001b[1;32m    476\u001b[0m         \u001b[0mself\u001b[0m\u001b[0;34m.\u001b[0m\u001b[0m_check_is_fitted\u001b[0m\u001b[0;34m(\u001b[0m\u001b[0;34m'predict'\u001b[0m\u001b[0;34m)\u001b[0m\u001b[0;34m\u001b[0m\u001b[0;34m\u001b[0m\u001b[0m\n\u001b[0;32m--> 477\u001b[0;31m         \u001b[0;32mreturn\u001b[0m \u001b[0mself\u001b[0m\u001b[0;34m.\u001b[0m\u001b[0mbest_estimator_\u001b[0m\u001b[0;34m.\u001b[0m\u001b[0mpredict\u001b[0m\u001b[0;34m(\u001b[0m\u001b[0mX\u001b[0m\u001b[0;34m)\u001b[0m\u001b[0;34m\u001b[0m\u001b[0;34m\u001b[0m\u001b[0m\n\u001b[0m\u001b[1;32m    478\u001b[0m \u001b[0;34m\u001b[0m\u001b[0m\n\u001b[1;32m    479\u001b[0m     \u001b[0;34m@\u001b[0m\u001b[0mif_delegate_has_method\u001b[0m\u001b[0;34m(\u001b[0m\u001b[0mdelegate\u001b[0m\u001b[0;34m=\u001b[0m\u001b[0;34m(\u001b[0m\u001b[0;34m'best_estimator_'\u001b[0m\u001b[0;34m,\u001b[0m \u001b[0;34m'estimator'\u001b[0m\u001b[0;34m)\u001b[0m\u001b[0;34m)\u001b[0m\u001b[0;34m\u001b[0m\u001b[0;34m\u001b[0m\u001b[0m\n",
      "\u001b[0;32m~/miniconda3/lib/python3.7/site-packages/sklearn/svm/_base.py\u001b[0m in \u001b[0;36mpredict\u001b[0;34m(self, X)\u001b[0m\n\u001b[1;32m    313\u001b[0m         \u001b[0my_pred\u001b[0m \u001b[0;34m:\u001b[0m \u001b[0marray\u001b[0m\u001b[0;34m,\u001b[0m \u001b[0mshape\u001b[0m \u001b[0;34m(\u001b[0m\u001b[0mn_samples\u001b[0m\u001b[0;34m,\u001b[0m\u001b[0;34m)\u001b[0m\u001b[0;34m\u001b[0m\u001b[0;34m\u001b[0m\u001b[0m\n\u001b[1;32m    314\u001b[0m         \"\"\"\n\u001b[0;32m--> 315\u001b[0;31m         \u001b[0mX\u001b[0m \u001b[0;34m=\u001b[0m \u001b[0mself\u001b[0m\u001b[0;34m.\u001b[0m\u001b[0m_validate_for_predict\u001b[0m\u001b[0;34m(\u001b[0m\u001b[0mX\u001b[0m\u001b[0;34m)\u001b[0m\u001b[0;34m\u001b[0m\u001b[0;34m\u001b[0m\u001b[0m\n\u001b[0m\u001b[1;32m    316\u001b[0m         \u001b[0mpredict\u001b[0m \u001b[0;34m=\u001b[0m \u001b[0mself\u001b[0m\u001b[0;34m.\u001b[0m\u001b[0m_sparse_predict\u001b[0m \u001b[0;32mif\u001b[0m \u001b[0mself\u001b[0m\u001b[0;34m.\u001b[0m\u001b[0m_sparse\u001b[0m \u001b[0;32melse\u001b[0m \u001b[0mself\u001b[0m\u001b[0;34m.\u001b[0m\u001b[0m_dense_predict\u001b[0m\u001b[0;34m\u001b[0m\u001b[0;34m\u001b[0m\u001b[0m\n\u001b[1;32m    317\u001b[0m         \u001b[0;32mreturn\u001b[0m \u001b[0mpredict\u001b[0m\u001b[0;34m(\u001b[0m\u001b[0mX\u001b[0m\u001b[0;34m)\u001b[0m\u001b[0;34m\u001b[0m\u001b[0;34m\u001b[0m\u001b[0m\n",
      "\u001b[0;32m~/miniconda3/lib/python3.7/site-packages/sklearn/svm/_base.py\u001b[0m in \u001b[0;36m_validate_for_predict\u001b[0;34m(self, X)\u001b[0m\n\u001b[1;32m    465\u001b[0m             raise ValueError(\"X.shape[1] = %d should be equal to %d, \"\n\u001b[1;32m    466\u001b[0m                              \u001b[0;34m\"the number of features at training time\"\u001b[0m \u001b[0;34m%\u001b[0m\u001b[0;34m\u001b[0m\u001b[0;34m\u001b[0m\u001b[0m\n\u001b[0;32m--> 467\u001b[0;31m                              (n_features, self.shape_fit_[1]))\n\u001b[0m\u001b[1;32m    468\u001b[0m         \u001b[0;32mreturn\u001b[0m \u001b[0mX\u001b[0m\u001b[0;34m\u001b[0m\u001b[0;34m\u001b[0m\u001b[0m\n\u001b[1;32m    469\u001b[0m \u001b[0;34m\u001b[0m\u001b[0m\n",
      "\u001b[0;31mValueError\u001b[0m: X.shape[1] = 206 should be equal to 209, the number of features at training time"
     ]
    }
   ],
   "source": [
    "    kf = KFold(n_splits=10, shuffle=True)\n",
    "    kf.get_n_splits(X3, y3)   \n",
    "    list_mse=[]\n",
    "    list_R2=[]\n",
    "    for train_index, test_index in kf.split(X3, y3):\n",
    "        X3_train, X3_test = X3.iloc[train_index], X3.iloc[test_index]\n",
    "        y3_train, y3_test = y3.iloc[train_index], y3.iloc[test_index]\n",
    "        y3_pred = svr_cg.predict(X3_test)\n",
    "        list_mse.append(mean_squared_error(y3_test, y3_pred))\n",
    "        print(r2_score(y3_test,y3_pred))\n",
    "    print(pd.Series(list_mse).mean())"
   ]
  },
  {
   "cell_type": "code",
   "execution_count": null,
   "metadata": {},
   "outputs": [],
   "source": []
  }
 ]
}