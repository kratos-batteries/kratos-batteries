{
 "nbformat": 4,
 "nbformat_minor": 2,
 "metadata": {
  "language_info": {
   "name": "python",
   "codemirror_mode": {
    "name": "ipython",
    "version": 3
   },
   "version": "3.7.4-final"
  },
  "orig_nbformat": 2,
  "file_extension": ".py",
  "mimetype": "text/x-python",
  "name": "python",
  "npconvert_exporter": "python",
  "pygments_lexer": "ipython3",
  "version": 3,
  "kernelspec": {
   "name": "python37464bitbasecondaaedb3b0a6ce64122a565c132635c4aab",
   "display_name": "Python 3.7.4 64-bit ('base': conda)"
  }
 },
 "cells": [
  {
   "cell_type": "code",
   "execution_count": 16,
   "metadata": {},
   "outputs": [],
   "source": [
    "from sklearn.svm import SVR\n",
    "import pandas as pd\n",
    "from sklearn.preprocessing import StandardScaler\n",
    "import numpy as np\n",
    "from sklearn.model_selection import train_test_split\n",
    "from sklearn.model_selection import KFold\n",
    "from sklearn.metrics import mean_squared_error"
   ]
  },
  {
   "cell_type": "code",
   "execution_count": 10,
   "metadata": {},
   "outputs": [
    {
     "data": {
      "text/plain": "(4401, 209)"
     },
     "execution_count": 10,
     "metadata": {},
     "output_type": "execute_result"
    }
   ],
   "source": [
    "X1=pd.read_csv('../Data/DataForSVR/GC_data.csv')\n",
    "y1=pd.read_csv('../Data/NEWTrainingData_StandardScaler.csv').loc[:,['Gravimetric Capacity (units)']]\n",
    "X1.shape"
   ]
  },
  {
   "cell_type": "code",
   "execution_count": 24,
   "metadata": {},
   "outputs": [],
   "source": [
    "kf = KFold(n_splits=10, shuffle=True)\n",
    "kf.get_n_splits(X1, y1)\n",
    "kernal=['linear','poly', 'rbf','sigmoid', 'precomputed']\n",
    "\n",
    "svr=SVR(kernel='sigmoid', degree=3, gamma='scale', coef0=0.0, tol=0.001, C=1.0, epsilon=0.1, \\\n",
    "                      shrinking=True, cache_size=200, verbose=False, max_iter=-1)\n"
   ]
  },
  {
   "cell_type": "code",
   "execution_count": 25,
   "metadata": {},
   "outputs": [],
   "source": [
    "mse=[]\n",
    "for item in kernal:\n",
    "  svr=SVR(kernel=item, degree=3, gamma='scale', coef0=0.0, tol=0.001, C=1.0, epsilon=0.1, \\\n",
    "                      shrinking=True, cache_size=200, verbose=False, max_iter=-1)\n",
    "  for train_index, test_index in kf.split(X1, y1):\n",
    "      #print(\"TRAIN:\", train_index, \"TEST:\", test_index)\n",
    "      X1_train, X1_test = X1.iloc[train_index], X1.iloc[test_index]\n",
    "      y1_train, y1_test = y1.iloc[train_index], y1.iloc[test_index]\n",
    "\n",
    "      svr.fit(X1_train, y1_train)\n",
    "      y1_pred = svr.predict(X1_test)\n",
    "\n",
    "      mse.append(pd.Series(mean_squared_error(y1_test, y1_pred)).mean())\n",
    "print(mse)"
   ]
  },
  {
   "cell_type": "code",
   "execution_count": null,
   "metadata": {},
   "outputs": [],
   "source": [
    "fig, ax = plt.subplots(figsize=(8,6))\n",
    "\n",
    "for train_index, test_index in kf.split(X, y):\n",
    "    #print(\"TRAIN:\", train_index, \"TEST:\", test_index)\n",
    "    X_train, X_test = X1[train_index], X1[test_index]\n",
    "    y_train, y_test = y1[train_index], y1[test_index]\n",
    "\n",
    "    svr.fit(X_train, y_train)\n",
    "    y_pred = svr.predict(X_test)\n",
    "\n",
    "    mse[i-1, j] = mean_squared_error(y_test, y_pred)\n",
    "\n",
    "    \n",
    "    ax.plot(np.linspace(1, 16, 17), mse[:, j], linewidth=4, color='b', alpha=0.09)\n",
    "    ax.set_ylabel('Mean Squared Error')\n",
    "    ax.set_xlabel('Degree of Polynomial')\n",
    "    j += 1\n",
    "    \n",
    "avg_mse = mse.mean(axis=1)\n",
    "ax.plot(np.linspace(1, 16, 17), avg_mse, color='r',linewidth=4)\n",
    "ax.grid()\n",
    "ax.set_ylim(0,10)"
   ]
  },
  {
   "cell_type": "code",
   "execution_count": null,
   "metadata": {},
   "outputs": [],
   "source": [
    "from sklearn.svm import SVR\n",
    "from sklearn.externals import joblib\n",
    "from sklearn.model_selection import GridSearchCV\n",
    "import numpy as np\n",
    "import matplotlib.pyplot as plt\n",
    "import pandas as pd\n"
   ]
  },
  {
   "cell_type": "code",
   "execution_count": null,
   "metadata": {},
   "outputs": [],
   "source": [
    "    X2=pd.read_csv('../Data/DataForSVR/VC_data.csv')\n",
    "    y2=pd.read_csv('../Data/NEWTrainingData_StandardScaler.csv').loc[:,['Volumetric Capacity']]\n",
    "    X3=pd.read_csv('../Data/DataForSVR/MDV_data.csv')\n",
    "    y3=pd.read_csv('../Data/NEWTrainingData_StandardScaler.csv').loc[:,['Max Delta Volume']]"
   ]
  },
  {
   "cell_type": "code",
   "execution_count": null,
   "metadata": {},
   "outputs": [],
   "source": [
    "svr = GridSearchCV(SVR(), param_grid={\"kernel\": (\"linear\", 'rbf','sigmoid','poly'), \"C\": np.logspace(-3, 3, 7), \"gamma\": np.logspace(-3, 3, 7)})\n",
    "svr.fit(X1, y1)\n",
    "joblib.dump(svr, 'svr_CG.pkl') "
   ]
  },
  {
   "cell_type": "code",
   "execution_count": null,
   "metadata": {},
   "outputs": [],
   "source": [
    "svr = GridSearchCV(SVR(), param_grid={\"kernel\": (\"linear\", 'rbf','sigmoid','poly'), \"C\": np.logspace(-3, 3, 7), \"gamma\": np.logspace(-3, 3, 7)})\n",
    "svr.fit(X2, y2)\n",
    "joblib.dump(svr, 'svr_CV.pkl')"
   ]
  },
  {
   "cell_type": "code",
   "execution_count": null,
   "metadata": {},
   "outputs": [],
   "source": [
    "svr = GridSearchCV(SVR(), param_grid={\"kernel\": (\"linear\", 'rbf','sigmoid','poly'), \"C\": np.logspace(-3, 3, 7), \"gamma\": np.logspace(-3, 3, 7)})\n",
    "svr.fit(X3, y3)\n",
    "joblib.dump(svr, 'svr_MDV.pkl') "
   ]
  },
  {
   "cell_type": "code",
   "execution_count": null,
   "metadata": {},
   "outputs": [],
   "source": []
  },
  {
   "cell_type": "code",
   "execution_count": null,
   "metadata": {},
   "outputs": [],
   "source": []
  },
  {
   "cell_type": "code",
   "execution_count": null,
   "metadata": {},
   "outputs": [],
   "source": []
  }
 ]
}